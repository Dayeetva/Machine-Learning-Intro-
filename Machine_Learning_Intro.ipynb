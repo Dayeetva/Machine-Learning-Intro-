{
  "nbformat": 4,
  "nbformat_minor": 0,
  "metadata": {
    "colab": {
      "provenance": []
    },
    "kernelspec": {
      "name": "python3",
      "display_name": "Python 3"
    },
    "language_info": {
      "name": "python"
    }
  },
  "cells": [
    {
      "cell_type": "code",
      "execution_count": null,
      "metadata": {
        "id": "fBYljpkG90j9"
      },
      "outputs": [],
      "source": [
        "#                               Machine Learning Intro | Assignment"
      ]
    },
    {
      "cell_type": "code",
      "source": [
        "# Questions Answers"
      ],
      "metadata": {
        "id": "ZZgcY39e_Eky"
      },
      "execution_count": null,
      "outputs": []
    },
    {
      "cell_type": "code",
      "source": [
        "#Q1) Explain the differences between AI, ML, Deep Learning (DL), and Data Science (DS).\n",
        "\n",
        "'''\n",
        "Answer: Artificial Intelligence (AI): Broad field aimed at creating machines/systems that perform tasks that normally require human intelligence (planning, reasoning, perception). Includes rule-based systems, search, optimization, ML, etc.\n",
        "\n",
        "        Machine Learning (ML): Subset of AI where systems learn patterns from data to make predictions/decisions without explicit rules. Algorithms: linear/logistic regression, SVM, trees, ensembles, etc.\n",
        "\n",
        "        Deep Learning (DL): Subset of ML using deep neural networks (many layers). Excels with large datasets and unstructured data (images, audio, text). Examples: CNNs, RNNs, Transformers.\n",
        "\n",
        "        Data Science (DS): Interdisciplinary field combining statistics, ML, domain knowledge, and data engineering to extract insights from data, build analyses/models, and communicate results. DS often uses ML/DL as tools.\n",
        "\n",
        "'''"
      ],
      "metadata": {
        "id": "77NeBpDa_EnH"
      },
      "execution_count": null,
      "outputs": []
    },
    {
      "cell_type": "code",
      "source": [
        "#Q2) What are the types of machine learning? Describe each with one real-world example.\n",
        "\n",
        "'''\n",
        "Answer: Supervised Learning: Learn mapping from inputs to labeled outputs.\n",
        "Example: Email spam classification (emails labeled spam/ham).\n",
        "\n",
        "Unsupervised Learning: Discover structure in unlabeled data.\n",
        "Example: Customer segmentation with k-means for marketing.\n",
        "\n",
        "Semi-supervised Learning: Use small labeled + large unlabeled datasets.\n",
        "Example: Webpage classification where labeling is expensive.\n",
        "\n",
        "Reinforcement Learning: Learn policy via rewards from environment.\n",
        "Example: Game-playing agents (AlphaZero) or robotics navigation.\n",
        "\n",
        "Self-supervised Learning: Create labels from data itself (pretext tasks).\n",
        "Example: Pretraining language models (predict next word/token).\n",
        "\n",
        "Multi-task / Transfer Learning: Reuse knowledge across tasks.\n",
        "Example: Fine-tuning ImageNet-pretrained CNN for medical image classification.\n",
        "\n",
        "'''"
      ],
      "metadata": {
        "id": "tlxp_6uk_Epv"
      },
      "execution_count": null,
      "outputs": []
    },
    {
      "cell_type": "code",
      "source": [
        "#Q3) Define overfitting, underfitting, and the bias-variance tradeoff in machine learning.\n",
        "\n",
        "'''\n",
        "Answer: Overfitting: Model learns noise or spurious patterns from training data; high training accuracy but poor generalization on new data. Symptoms: complexity too high relative to data, large gap between train/test error.\n",
        "\n",
        "Underfitting: Model too simple to capture underlying structure; high error on both train and test sets.\n",
        "\n",
        "Bias–Variance Tradeoff:\n",
        "\n",
        "Bias: Error from wrong assumptions / oversimplified model (causes underfitting).\n",
        "\n",
        "Variance: Error from sensitivity to training data (causes overfitting).\n",
        "Goal: choose model complexity and regularization to minimize total error (bias² + variance + irreducible noise).\n",
        "\n",
        "'''\n"
      ],
      "metadata": {
        "id": "lJ-w9t1-_Er_"
      },
      "execution_count": null,
      "outputs": []
    },
    {
      "cell_type": "code",
      "source": [
        "#Q4) What are outliers in a dataset, and list three common techniques for handling them.\n",
        "\n",
        "'''\n",
        "Answer: Outliers: Data points that deviate markedly from other observations; could be due to measurement error, rare events, or genuine variability.\n",
        "\n",
        "Techniques:\n",
        "\n",
        "Remove points after domain-driven checks (only if clearly erroneous).\n",
        "\n",
        "Transform variables (e.g., log, Box–Cox) to reduce effect of extreme values.\n",
        "\n",
        "Robust methods / winsorization / clipping — replace extreme values with percentiles (e.g., cap at 1st/99th percentile) or use robust estimators (median, robust scaling).\n",
        "\n",
        "Additional: detect via z-score/IQR/LOF and treat case-by-case.\n",
        "\n",
        "'''\n"
      ],
      "metadata": {
        "id": "o7rbzqUo_Eue"
      },
      "execution_count": null,
      "outputs": []
    },
    {
      "cell_type": "code",
      "source": [
        "#Q5) Explain the process of handling missing values and mention one imputation technique for numerical and one for categorical data.\n",
        "\n",
        "'''\n",
        "Answer: Process:\n",
        "\n",
        "Assess missingness: compute % missing per column; determine mechanism: MCAR, MAR, MNAR.\n",
        "\n",
        "Decide strategy: drop features/rows with too many missing values; otherwise impute.\n",
        "\n",
        "Apply imputation appropriate to variable type and downstream model (and keep indicator columns if useful).\n",
        "\n",
        "Validate: compare distributions pre/post imputation; consider multiple imputation when uncertainty matters.\n",
        "\n",
        "One imputation technique (numerical): Mean imputation (or median if skewed).\n",
        "\n",
        "One imputation technique (categorical): Mode imputation (most frequent category) or treat missing as its own category ('Missing').\n",
        "\n",
        "'''"
      ],
      "metadata": {
        "id": "d-FW08Ie_Ew5"
      },
      "execution_count": null,
      "outputs": []
    },
    {
      "cell_type": "code",
      "source": [
        "#Q6) Write a Python program that:\n",
        "'''● Creates a synthetic imbalanced dataset with make_classification() from\n",
        "sklearn.datasets.\n",
        "● Prints the class distribution.\n",
        "'''\n",
        "\n",
        "from sklearn.datasets import make_classification\n",
        "from collections import Counter\n",
        "\n",
        "X, y = make_classification(n_samples=1000, n_features=5, n_informative=2, n_redundant=0,\n",
        "                           n_clusters_per_class=1, weights=[0.9, 0.1], flip_y=0, random_state=42)\n",
        "print(Counter(y))\n",
        "\n"
      ],
      "metadata": {
        "colab": {
          "base_uri": "https://localhost:8080/"
        },
        "id": "IwznD0Ji_Ezb",
        "outputId": "f8b9c2c3-21e5-42d0-eed9-d5350dfb985f"
      },
      "execution_count": 1,
      "outputs": [
        {
          "output_type": "stream",
          "name": "stdout",
          "text": [
            "Counter({np.int64(0): 900, np.int64(1): 100})\n"
          ]
        }
      ]
    },
    {
      "cell_type": "code",
      "source": [
        "#Q7) Implement one-hot encoding using pandas for the following list of colors: ['Red', 'Green', 'Blue', 'Green', 'Red']. Print the resulting dataframe.\n",
        "\n",
        "import pandas as pd\n",
        "colors = ['Red', 'Green', 'Blue', 'Green', 'Red']\n",
        "df = pd.DataFrame({'color': colors})\n",
        "df_ohe = pd.get_dummies(df, columns=['color'])\n",
        "print(df_ohe)\n"
      ],
      "metadata": {
        "colab": {
          "base_uri": "https://localhost:8080/"
        },
        "id": "IPEhqKAo_E1w",
        "outputId": "9d5580c7-fcae-4737-ddf2-0c548949af48"
      },
      "execution_count": 2,
      "outputs": [
        {
          "output_type": "stream",
          "name": "stdout",
          "text": [
            "   color_Blue  color_Green  color_Red\n",
            "0       False        False       True\n",
            "1       False         True      False\n",
            "2        True        False      False\n",
            "3       False         True      False\n",
            "4       False        False       True\n"
          ]
        }
      ]
    },
    {
      "cell_type": "code",
      "source": [
        "#Q8) Write a Python script to:\n",
        "'''● Generate 1000 samples from a normal distribution.\n",
        "● Introduce 50 random missing values.\n",
        "● Fill missing values with the column mean.\n",
        "● Plot a histogram before and after imputation.\n",
        "'''\n",
        "\n",
        "\n",
        "import numpy as np\n",
        "import matplotlib.pyplot as plt\n",
        "\n",
        "np.random.seed(0)\n",
        "samples = np.random.normal(loc=0, scale=1, size=1000)\n",
        "# introduce 50 random NaNs\n",
        "nan_idx = np.random.choice(len(samples), 50, replace=False)\n",
        "samples_with_nan = samples.copy()\n",
        "samples_with_nan[nan_idx] = np.nan\n",
        "\n",
        "# impute with column mean\n",
        "mean_val = np.nanmean(samples_with_nan)\n",
        "imputed = samples_with_nan.copy()\n",
        "imputed[np.isnan(imputed)] = mean_val\n",
        "\n",
        "# histograms (before imputation ignoring NaNs, and after)\n",
        "plt.hist(samples_with_nan[~np.isnan(samples_with_nan)], bins=30)\n",
        "plt.title(\"Before imputation\")\n",
        "plt.show()\n",
        "\n",
        "plt.hist(imputed, bins=30)\n",
        "plt.title(\"After mean imputation\")\n",
        "plt.show()\n"
      ],
      "metadata": {
        "colab": {
          "base_uri": "https://localhost:8080/",
          "height": 887
        },
        "id": "ngP2Gq5N_E4s",
        "outputId": "c5b58234-a2c1-4e6f-d2e4-7fb419c5448e"
      },
      "execution_count": 3,
      "outputs": [
        {
          "output_type": "display_data",
          "data": {
            "text/plain": [
              "<Figure size 640x480 with 1 Axes>"
            ],
            "image/png": "[encoded data removed]"
          },
          "metadata": {}
        },
        {
          "output_type": "display_data",
          "data": {
            "text/plain": [
              "<Figure size 640x480 with 1 Axes>"
            ],
            "image/png": "[encoded data removed]"
          },
          "metadata": {}
        }
      ]
    },
    {
      "cell_type": "code",
      "source": [
        "#Q9) Implement Min-Max scaling on the following list of numbers [2, 5, 10, 15, 20] using sklearn.preprocessing.MinMaxScaler. Print the scaled array.\n",
        "\n",
        "\n",
        "from sklearn.preprocessing import MinMaxScaler\n",
        "import numpy as np\n",
        "\n",
        "values = np.array([[2], [5], [10], [15], [20]], dtype=float)\n",
        "scaler = MinMaxScaler()\n",
        "scaled = scaler.fit_transform(values).flatten()\n",
        "print(scaled)\n"
      ],
      "metadata": {
        "colab": {
          "base_uri": "https://localhost:8080/"
        },
        "id": "O7WyzsjH_E7D",
        "outputId": "9ce756c6-fd73-4ef2-e01a-c04d14ea5675"
      },
      "execution_count": 4,
      "outputs": [
        {
          "output_type": "stream",
          "name": "stdout",
          "text": [
            "[0.         0.16666667 0.44444444 0.72222222 1.        ]\n"
          ]
        }
      ]
    },
    {
      "cell_type": "code",
      "source": [
        "#Q10) You are working as a data scientist for a retail company. You receive a customer transaction dataset that contains:\n",
        "'''● Missing ages,\n",
        "● Outliers in transaction amount,\n",
        "● A highly imbalanced target (fraud vs. non-fraud),\n",
        "● Categorical variables like payment method.\n",
        "Explain the step-by-step data preparation plan you’d follow before training a machine learning\n",
        "model. Include how you’d address missing data, outliers, imbalance, and encoding.'''\n",
        "\n",
        "\n",
        "'''\n",
        "Answer: Step-by-step plan\n",
        "\n",
        "Understand & explore:\n",
        "\n",
        "Inspect columns, data types, missingness %, unique values, and basic stats.\n",
        "\n",
        "Visualize distributions (age, transaction amount), and class imbalance (fraud vs non-fraud).\n",
        "\n",
        "Missing ages:\n",
        "\n",
        "If missing % is small: consider imputing age (numerical). Techniques:\n",
        "\n",
        "Median (robust to outliers) or predictive imputation (e.g., train a simple model to predict age using other features).\n",
        "\n",
        "Create an indicator column age_missing = 1 if missing (so model can use missingness signal).\n",
        "\n",
        "If missing pattern is systematic (MNAR), consult domain knowledge or flag and handle specially.\n",
        "\n",
        "Outliers in transaction amount:\n",
        "\n",
        "Detect using IQR (values outside [Q1 - 1.5 IQR, Q3 + 1.5 IQR]) or z-score, or robust methods.\n",
        "\n",
        "Handle based on cause:\n",
        "\n",
        "If measurement error: remove or correct if known.\n",
        "\n",
        "If valid but extreme: either transform (log scale) or cap (winsorize) e.g., cap at 99th percentile.\n",
        "\n",
        "Consider using models robust to outliers (tree-based) or using features like log_amount.\n",
        "\n",
        "Imbalanced target (fraud vs non-fraud)\n",
        "\n",
        "Use a combination of:\n",
        "\n",
        "Appropriate evaluation metrics: precision, recall, F1-score, ROC-AUC, PR-AUC (PR-AUC often more informative for rare positives).\n",
        "\n",
        "Resampling strategies for training only:\n",
        "\n",
        "Oversampling minority: SMOTE / ADASYN (careful with high-dimensional noisy data).\n",
        "\n",
        "Undersampling majority: RandomUnderSampler or more advanced (NearMiss).\n",
        "\n",
        "Class weighting in algorithms (e.g., class_weight='balanced' in sklearn).\n",
        "\n",
        "Ensemble approaches (balanced random forest) and threshold tuning to trade off precision/recall.\n",
        "\n",
        "Categorical variables (payment method, etc.)\n",
        "\n",
        "Low-cardinality categories (payment method): one-hot encode (or target encoding if many categories).\n",
        "\n",
        "For high-cardinality: target encoding / frequency encoding with proper cross-validation to prevent leakage.\n",
        "\n",
        "Keep Unknown / Missing category if missing.\n",
        "\n",
        "Feature engineering:\n",
        "\n",
        "Create features: log_amount, amount_per_item, is_night_txn, customer_age_group, days_since_last_txn, payment_method_numeric, etc.\n",
        "\n",
        "Interaction features that make sense for fraud detection (e.g., payment method × country).\n",
        "\n",
        "Scaling :\n",
        "\n",
        "Scale numeric features when needed (e.g., MinMax or StandardScaler) especially for distance-based models or neural nets. Tree models typically don't require scaling.\n",
        "\n",
        "Split & cross-validation:\n",
        "\n",
        "Use time-aware split if transactions are time-ordered (train on earlier dates, validate later).\n",
        "\n",
        "For standard cross-validation, use stratified CV for imbalanced classes (StratifiedKFold).\n",
        "\n",
        "Modeling & evaluation:\n",
        "\n",
        "Try robust classifiers: XGBoost/LightGBM/CatBoost (handle categorical data better), RandomForest, logistic regression with regularization.\n",
        "\n",
        "Use ROC and PR curves; choose operating point based on business cost (cost of false positives vs false negatives).\n",
        "\n",
        "Use calibration (Platt scaling / isotonic) if probability estimates are needed.\n",
        "\n",
        "Deployment & monitoring:\n",
        "\n",
        "Save preprocessing pipeline (imputation, encoding, scaling).\n",
        "\n",
        "Monitor model performance drift and data quality; retrain when necessary.\n",
        "\n",
        "'''\n"
      ],
      "metadata": {
        "id": "5nxmndAN_E_u"
      },
      "execution_count": 6,
      "outputs": []
    },
    {
      "cell_type": "code",
      "source": [],
      "metadata": {
        "id": "W4uwFLcMBzBN"
      },
      "execution_count": null,
      "outputs": []
    }
  ]
}